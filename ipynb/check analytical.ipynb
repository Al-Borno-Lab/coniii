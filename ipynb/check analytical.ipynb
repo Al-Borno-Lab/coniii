{
 "cells": [
  {
   "cell_type": "raw",
   "metadata": {},
   "source": [
    "Check analytical equations for solving Ising and computing probabilities and \n",
    "correlations.\n",
    "\n",
    "Agrees between probability and computed correlations at this time.\n",
    "\n",
    "Checked by generating distributions with the 01 formulation and solving for those parameters.\n",
    "2014-08-21"
   ]
  },
  {
   "cell_type": "code",
   "execution_count": 1,
   "metadata": {
    "collapsed": false
   },
   "outputs": [],
   "source": [
    "import entropy.entropy as ent\n",
    "import exact"
   ]
  },
  {
   "cell_type": "code",
   "execution_count": 15,
   "metadata": {
    "collapsed": false
   },
   "outputs": [
    {
     "name": "stdout",
     "output_type": "stream",
     "text": [
      "Breakpoint 1 at /Users/eddie/Dropbox/Research/py_lib/ising_solve/test.py:1\n",
      "NOTE: Enter 'c' at the ipdb>  prompt to continue execution.\n",
      "> \u001b[0;32m/Users/eddie/Dropbox/Research/py_lib/ising_solve/test.py\u001b[0m(1)\u001b[0;36m<module>\u001b[0;34m()\u001b[0m\n",
      "\u001b[1;31m1\u001b[0;32m---> 1 \u001b[0;31m\u001b[0;32mimport\u001b[0m \u001b[0mexact\u001b[0m\u001b[0;34m\u001b[0m\u001b[0m\n",
      "\u001b[0m\u001b[0;32m      2 \u001b[0;31m\u001b[0;32mimport\u001b[0m \u001b[0mnumpy\u001b[0m \u001b[0;32mas\u001b[0m \u001b[0mnp\u001b[0m\u001b[0;34m\u001b[0m\u001b[0m\n",
      "\u001b[0m\u001b[0;32m      3 \u001b[0;31m\u001b[0;34m\u001b[0m\u001b[0m\n",
      "\u001b[0m\n",
      "ipdb> c\n"
     ]
    }
   ],
   "source": [
    "%run -d test.py"
   ]
  },
  {
   "cell_type": "code",
   "execution_count": 3,
   "metadata": {
    "collapsed": false
   },
   "outputs": [
    {
     "data": {
      "text/plain": [
       "(array([ 0,  1,  2,  3,  4,  5,  6,  7,  8,  9, 10]),)"
      ]
     },
     "execution_count": 3,
     "metadata": {},
     "output_type": "execute_result"
    }
   ],
   "source": [
    "where(ones((i))==1)"
   ]
  },
  {
   "cell_type": "code",
   "execution_count": 4,
   "metadata": {
    "collapsed": true
   },
   "outputs": [],
   "source": [
    "# Write tosolve functions\n",
    "for i in range(14,16):\n",
    "    exact.write_eqns(i,0,[where(ones((i))==1),where(triu(np.ones((i,i)),k=1)==1)],\n",
    "                     writeto=\"py\")\n",
    "!mv tosolve* ../tosolve01/"
   ]
  },
  {
   "cell_type": "code",
   "execution_count": 3,
   "metadata": {
    "collapsed": false
   },
   "outputs": [],
   "source": [
    "# Write tosolve functions\n",
    "for i in range(4,5):\n",
    "    exact.write_eqns(i,0,[where(ones((i))==1),where(triu(np.ones((i,i)),k=1)==1)],\n",
    "                     writeto=\"py\")\n",
    "!mv tosolve* ../tosolve01/"
   ]
  },
  {
   "cell_type": "code",
   "execution_count": 2,
   "metadata": {
    "collapsed": false
   },
   "outputs": [],
   "source": [
    "for i in range(2,10):\n",
    "    exact.write_eqns(i,1,[where(ones((i))==1),where(triu(np.ones((i,i)),k=1)==1)],\n",
    "                     writeto=\"py\")\n",
    "!mv tosolve* ../tosolve11/"
   ]
  },
  {
   "cell_type": "code",
   "execution_count": null,
   "metadata": {
    "collapsed": false
   },
   "outputs": [],
   "source": []
  },
  {
   "cell_type": "markdown",
   "metadata": {},
   "source": [
    "### {0,1} formulation. Last checked 2015-04-30"
   ]
  },
  {
   "cell_type": "markdown",
   "metadata": {},
   "source": [
    "Using randomly generated J."
   ]
  },
  {
   "cell_type": "code",
   "execution_count": 67,
   "metadata": {
    "collapsed": false
   },
   "outputs": [],
   "source": [
    "import tosolve01.tosolve9 as f\n",
    "n = 9\n",
    "L = random.normal(size=n+n*(n-1)/2,scale=.2)"
   ]
  },
  {
   "cell_type": "code",
   "execution_count": 65,
   "metadata": {
    "collapsed": false,
    "scrolled": true
   },
   "outputs": [
    {
     "data": {
      "text/plain": [
       "array([ 0.491 ,  0.4456,  0.5087,  0.4162,  0.2266,  0.2571,  0.2166,  0.2101,  0.1867,  0.2138])"
      ]
     },
     "execution_count": 65,
     "metadata": {},
     "output_type": "execute_result"
    }
   ],
   "source": [
    "f.get_stats(L)"
   ]
  },
  {
   "cell_type": "code",
   "execution_count": 46,
   "metadata": {
    "collapsed": false
   },
   "outputs": [
    {
     "name": "stdout",
     "output_type": "stream",
     "text": [
      "0.446257471626\n",
      "0.274327901923\n"
     ]
    }
   ],
   "source": [
    "Z = 1+exp(L[0])+exp(L[1])+exp(sum(L))\n",
    "print (exp(L[0])+exp(sum(L)))/Z\n",
    "print 1/Z"
   ]
  },
  {
   "cell_type": "code",
   "execution_count": 68,
   "metadata": {
    "collapsed": true
   },
   "outputs": [
    {
     "name": "stdout",
     "output_type": "stream",
     "text": [
      "[ 0.0006  0.0005  0.0006  0.0006  0.0007  0.0006  0.0009  0.0009  0.0006  0.0005  0.0005  0.0005  0.0007  0.0006  0.0007  0.0008  0.0006  0.0007  0.0007  0.0009  0.0008  0.0009  0.001   0.0013  0.0011  0.0012  0.001   0.0013  0.0013  0.0015  0.0015  0.002   0.0008  0.0007  0.001   0.0011  0.001   0.0009  0.0016  0.0018  0.001   0.001   0.0011  0.0013  0.0013  0.0013  0.0019  0.0021  0.0006  0.0007  0.0008  0.0011  0.0007  0.0009  0.0013  0.0018  0.0013  0.0015  0.0015  0.0021  0.0017  0.002   0.0026  0.0035  0.0007  0.0006  0.0008  0.0008  0.0009  0.0008  0.0012  0.0013  0.0008  0.0008  0.0008  0.0009  0.001   0.001   0.0012  0.0014  0.0007  0.0008  0.0008  0.0011  0.0009  0.001   0.0013  0.0017  0.0013  0.0016  0.0014  0.0019  0.0018  0.0021  0.0023  0.0031  0.0009  0.0009  0.0013  0.0015  0.0012  0.0012  0.0023  0.0027  0.0014  0.0014  0.0018  0.0021  0.002   0.002   0.0032  0.0037  0.0006  0.0008  0.001   0.0014  0.0009  0.0011  0.0017  0.0024  0.0016  0.0021  0.0022  0.0033  0.0024  0.0029  0.004   0.0058  0.0006  0.0006  0.0006  0.0008  0.0008  0.0008  0.0011  0.0014  0.0004  0.0004  0.0004  0.0004  0.0005  0.0006  0.0007  0.0008  0.0005  0.0006  0.0006  0.0008  0.0007  0.0009  0.001   0.0015  0.0005  0.0007  0.0006  0.0008  0.0008  0.001   0.001   0.0016  0.0006  0.0006  0.0009  0.0011  0.0009  0.001   0.0017  0.0022  0.0005  0.0006  0.0007  0.0008  0.0008  0.0009  0.0013  0.0017  0.0003  0.0005  0.0005  0.0008  0.0006  0.0007  0.0011  0.0017  0.0005  0.0007  0.0007  0.0011  0.0009  0.0012  0.0015  0.0023  0.0008  0.0008  0.001   0.0013  0.0012  0.0013  0.002   0.0025  0.0006  0.0007  0.0007  0.0009  0.001   0.0011  0.0014  0.0017  0.0006  0.0008  0.0008  0.0013  0.001   0.0013  0.0016  0.0025  0.0008  0.0011  0.001   0.0015  0.0013  0.0018  0.0019  0.0031  0.0008  0.0009  0.0014  0.0019  0.0014  0.0016  0.003   0.004   0.0009  0.001   0.0013  0.0017  0.0015  0.0018  0.0028  0.0038  0.0005  0.0006  0.0008  0.0013  0.0008  0.0011  0.0018  0.0029  0.0008  0.0012  0.0013  0.0021  0.0014  0.0021  0.0028  0.0046  0.0009  0.0011  0.0009  0.0013  0.0009  0.0012  0.0012  0.0018  0.0009  0.0012  0.0008  0.0012  0.001   0.0013  0.0012  0.0017  0.001   0.0016  0.0011  0.0021  0.0011  0.0017  0.0015  0.0028  0.0018  0.0029  0.0018  0.0033  0.002   0.0032  0.0025  0.0045  0.0012  0.0016  0.0017  0.0026  0.0015  0.002   0.0026  0.0039  0.0017  0.0024  0.0021  0.0033  0.0021  0.0029  0.0032  0.005   0.001   0.0016  0.0015  0.0028  0.0012  0.0019  0.0022  0.0042  0.0024  0.004   0.0031  0.006   0.003   0.0049  0.0047  0.0091  0.0011  0.0015  0.0013  0.002   0.0013  0.0017  0.002   0.003   0.0014  0.0019  0.0014  0.0022  0.0017  0.0022  0.0022  0.0034  0.0012  0.0019  0.0015  0.0029  0.0014  0.0023  0.0022  0.0042  0.0026  0.0042  0.0028  0.0054  0.0031  0.0051  0.0043  0.0081  0.0016  0.0022  0.0026  0.0041  0.0021  0.0029  0.0041  0.0066  0.0027  0.0038  0.0037  0.0061  0.0036  0.005   0.0061  0.01    0.0012  0.0021  0.002   0.004   0.0016  0.0026  0.0033  0.0064  0.0035  0.006   0.0051  0.0102  0.0046  0.008   0.0084  0.0168  0.0007  0.001   0.0008  0.0014  0.0009  0.0014  0.0014  0.0024  0.0005  0.0007  0.0005  0.0009  0.0007  0.001   0.0009  0.0015  0.0006  0.0011  0.0008  0.0017  0.0009  0.0015  0.0014  0.0028  0.0008  0.0014  0.0009  0.0018  0.0011  0.002   0.0015  0.0031  0.0008  0.0012  0.0013  0.0023  0.0012  0.0018  0.0023  0.0042  0.0008  0.0012  0.001   0.0019  0.0012  0.0018  0.002   0.0036  0.0005  0.001   0.0009  0.0019  0.0008  0.0014  0.0016  0.0035  0.0008  0.0016  0.0012  0.0027  0.0013  0.0024  0.0023  0.0051  0.0011  0.0017  0.0015  0.0026  0.0016  0.0024  0.0027  0.0048  0.0009  0.0014  0.0011  0.0019  0.0014  0.0021  0.002   0.0036  0.0009  0.0017  0.0013  0.0029  0.0013  0.0025  0.0024  0.0053  0.0013  0.0025  0.0017  0.0037  0.002   0.0038  0.0031  0.0069  0.0013  0.0021  0.0023  0.0043  0.0021  0.0033  0.0046  0.0085  0.0015  0.0024  0.0023  0.0043  0.0024  0.0039  0.0047  0.0087  0.0008  0.0015  0.0015  0.0033  0.0012  0.0024  0.0029  0.0066  0.0015  0.003   0.0024  0.0057  0.0024  0.0048  0.005   0.0115]\n",
      "[ 0.6722  0.442   0.627   0.6136  0.5569  0.5898  0.613   0.6246  0.6122] [ 0.2887  0.4275  0.4185  0.3798  0.4026  0.4079  0.4237  0.4293  0.2884  0.2598  0.2295  0.235   0.2838  0.2844  0.2774  0.3873  0.3452  0.3778  0.3895  0.3994  0.3871  0.324   0.3769  0.3815  0.398   0.3782  0.3605  0.3403  0.3489  0.3527  0.3616  0.3613  0.3634  0.396   0.3756  0.3916]\n"
     ]
    }
   ],
   "source": [
    "p = f.get_probs(L)\n",
    "print p\n",
    "\n",
    "si,sisj = ent.calc_sisj(ent.get_all_states(n,sym=False),weighted=p)\n",
    "print si,sisj"
   ]
  },
  {
   "cell_type": "code",
   "execution_count": 69,
   "metadata": {
    "collapsed": false,
    "scrolled": true
   },
   "outputs": [
    {
     "name": "stdout",
     "output_type": "stream",
     "text": [
      "Distance is 0.000000\n",
      "\n"
     ]
    }
   ],
   "source": [
    "J = exact.solve_ising(n,concatenate((si,sisj)),zeros((45)),sym=False)"
   ]
  },
  {
   "cell_type": "code",
   "execution_count": 70,
   "metadata": {
    "collapsed": false,
    "scrolled": true
   },
   "outputs": [
    {
     "data": {
      "text/plain": [
       "[<matplotlib.lines.Line2D at 0x7fe911d31350>,\n",
       " <matplotlib.lines.Line2D at 0x7fe911bdb350>]"
      ]
     },
     "execution_count": 70,
     "metadata": {},
     "output_type": "execute_result"
    },
    {
     "data": {
      "image/png": "[encoded data removed]",
      "text/plain": [
       "<matplotlib.figure.Figure at 0x7fe911d31250>"
      ]
     },
     "metadata": {},
     "output_type": "display_data"
    }
   ],
   "source": [
    "# Seems to work fine...no problem.\n",
    "fig,ax = plt.subplots(figsize=(4.5,4))\n",
    "ax.plot(J,L,'.',[0,1],[0,1],'k-')"
   ]
  },
  {
   "cell_type": "markdown",
   "metadata": {},
   "source": [
    "Using randomly generated data to test solving algorithm."
   ]
  },
  {
   "cell_type": "code",
   "execution_count": 76,
   "metadata": {
    "collapsed": true
   },
   "outputs": [],
   "source": [
    "import mc_ising_solve as mc\n",
    "import scipy.stats as stats"
   ]
  },
  {
   "cell_type": "code",
   "execution_count": 116,
   "metadata": {
    "collapsed": false,
    "scrolled": true
   },
   "outputs": [
    {
     "name": "stdout",
     "output_type": "stream",
     "text": [
      "iters = 16\n",
      "[ 0.47   0.478]\n"
     ]
    }
   ],
   "source": [
    "n = 2\n",
    "import tosolve01.tosolve2 as f\n",
    "L = random.normal(size=n+n*(n-1)/2,scale=.2)\n",
    "data = mc.generate_samples(concatenate([L[1:],L[:1]]),n,1e3)\n",
    "print mean(data,0)"
   ]
  },
  {
   "cell_type": "code",
   "execution_count": 133,
   "metadata": {
    "collapsed": true
   },
   "outputs": [],
   "source": [
    "# Generate random data by sampling directly from probability distribution.\n",
    "rv = stats.rv_discrete(values=(range(2**n),f.get_probs(L)))\n",
    "exactData = ent.get_all_states(n)[rv.rvs(size=(1e4))]"
   ]
  },
  {
   "cell_type": "code",
   "execution_count": 117,
   "metadata": {
    "collapsed": false,
    "scrolled": true
   },
   "outputs": [
    {
     "name": "stdout",
     "output_type": "stream",
     "text": [
      "[ 0.47   0.478] [ 0.202]\n"
     ]
    }
   ],
   "source": [
    "si,sisj = ent.calc_sisj(data)\n",
    "print si,sisj"
   ]
  },
  {
   "cell_type": "code",
   "execution_count": 134,
   "metadata": {
    "collapsed": false,
    "scrolled": true
   },
   "outputs": [
    {
     "name": "stdout",
     "output_type": "stream",
     "text": [
      "[ 0.47   0.478] [ 0.202]\n",
      "(array([ 0.5287,  0.4537]), array([ 0.2427]))\n",
      "[ 0.528   0.4606  0.2477]\n"
     ]
    }
   ],
   "source": [
    "print si,sisj\n",
    "print ent.calc_sisj(exactData)\n",
    "print f.get_stats(L)"
   ]
  },
  {
   "cell_type": "code",
   "execution_count": 135,
   "metadata": {
    "collapsed": false
   },
   "outputs": [
    {
     "name": "stdout",
     "output_type": "stream",
     "text": [
      "Distance is 0.000000\n",
      "\n"
     ]
    }
   ],
   "source": [
    "# Since something seems to be wrong from mc_ising_solve routine...\n",
    "si,sisj = ent.calc_sisj(exactData)\n",
    "J = exact.solve_ising(n,concatenate((si,sisj)),zeros((3)),sym=False)"
   ]
  },
  {
   "cell_type": "code",
   "execution_count": 139,
   "metadata": {
    "collapsed": false
   },
   "outputs": [
    {
     "data": {
      "text/plain": [
       "[<matplotlib.lines.Line2D at 0x7fe911f2e8d0>,\n",
       " <matplotlib.lines.Line2D at 0x7fe911f2ea90>]"
      ]
     },
     "execution_count": 139,
     "metadata": {},
     "output_type": "execute_result"
    },
    {
     "data": {
      "image/png": "[encoded data removed]",
      "text/plain": [
       "<matplotlib.figure.Figure at 0x7fe9111cdbd0>"
      ]
     },
     "metadata": {},
     "output_type": "display_data"
    }
   ],
   "source": [
    "plt.plot( L,J,'.',\n",
    "        [-1,1],[-1,1],'k-')"
   ]
  },
  {
   "cell_type": "markdown",
   "metadata": {},
   "source": [
    "### {-1,1} formulation"
   ]
  },
  {
   "cell_type": "code",
   "execution_count": 2,
   "metadata": {
    "collapsed": false
   },
   "outputs": [],
   "source": [
    "import tosolve11.tosolve9 as f\n",
    "n = 9\n",
    "L = random.normal(size=n+n*(n-1)/2,scale=.2)"
   ]
  },
  {
   "cell_type": "code",
   "execution_count": 3,
   "metadata": {
    "collapsed": false
   },
   "outputs": [
    {
     "data": {
      "text/plain": [
       "array([ 0.27306203, -0.02618783,  0.09981274, -0.10582944, -0.0147785 ,\n",
       "        0.2936892 , -0.16785561, -0.00655142,  0.11894657,  0.13654151,\n",
       "        0.23506534,  0.01970068,  0.2614403 ,  0.41867406, -0.0566117 ,\n",
       "       -0.21635908, -0.06951404,  0.1750233 , -0.21580043,  0.22667512,\n",
       "        0.08479226, -0.18043367, -0.05104533, -0.03991841, -0.00758034,\n",
       "        0.19005293,  0.24838819, -0.11556088, -0.09499991,  0.2083978 ,\n",
       "        0.0162807 , -0.19227179,  0.02076934, -0.11023114, -0.08375287,\n",
       "        0.28701932, -0.00619287, -0.31744035, -0.16038306, -0.12940005,\n",
       "       -0.05647682,  0.05426197, -0.03053915, -0.0563927 ,  0.23848875])"
      ]
     },
     "execution_count": 3,
     "metadata": {},
     "output_type": "execute_result"
    }
   ],
   "source": [
    "f.get_stats(L)"
   ]
  },
  {
   "cell_type": "code",
   "execution_count": 4,
   "metadata": {
    "collapsed": false
   },
   "outputs": [
    {
     "name": "stdout",
     "output_type": "stream",
     "text": [
      "[  2.00930729e-03   1.71378770e-03   3.67670231e-03   7.73554117e-03\n",
      "   3.16766802e-03   2.54618854e-03   5.10432444e-03   1.01207044e-02\n",
      "   1.09378718e-03   1.12360292e-03   2.87449766e-03   7.28389303e-03\n",
      "   1.11528100e-03   1.07970365e-03   2.58107091e-03   6.16370399e-03\n",
      "   6.12700813e-04   2.97478602e-04   3.52372694e-04   4.22018116e-04\n",
      "   1.22395517e-03   5.60032235e-04   6.19877402e-04   6.99640416e-04\n",
      "   1.20305325e-03   7.03495773e-04   9.93700850e-04   1.43335536e-03\n",
      "   1.55439031e-03   8.56597810e-04   1.13062190e-03   1.53693622e-03\n",
      "   4.30515080e-03   2.92840334e-03   5.64717829e-03   9.47535733e-03\n",
      "   5.11442413e-03   3.27853258e-03   5.90780801e-03   9.34180308e-03\n",
      "   7.89432213e-04   6.46735552e-04   1.48721924e-03   3.00544275e-03\n",
      "   6.06570647e-04   4.68310094e-04   1.00630132e-03   1.91646876e-03\n",
      "   1.78628039e-03   6.91653802e-04   7.36435035e-04   7.03388321e-04\n",
      "   2.68894399e-03   9.81208119e-04   9.76232069e-04   8.78727098e-04\n",
      "   1.18147906e-03   5.50978350e-04   6.99564658e-04   8.04744354e-04\n",
      "   1.15031380e-03   5.05551115e-04   5.99797517e-04   6.50241941e-04\n",
      "   4.02150625e-04   1.14010749e-03   5.07837374e-04   3.55143018e-03\n",
      "   4.84955998e-04   1.29568557e-03   5.39292957e-04   3.55421429e-03\n",
      "   4.18507555e-04   1.42899174e-03   7.59025269e-04   6.39299291e-03\n",
      "   3.26418725e-04   1.05036857e-03   5.21332138e-04   4.13811660e-03\n",
      "   1.98263578e-04   3.19960674e-04   7.86901787e-05   3.13253382e-04\n",
      "   3.02956505e-04   4.60759378e-04   1.05887422e-04   3.97246290e-04\n",
      "   7.44230420e-04   1.44654000e-03   4.24230638e-04   2.03397979e-03\n",
      "   7.35534306e-04   1.34730587e-03   3.69219006e-04   1.66827979e-03\n",
      "   1.13470035e-03   2.56548867e-03   1.02718371e-03   5.72873334e-03\n",
      "   1.03112151e-03   2.19704523e-03   8.21983844e-04   4.32030100e-03\n",
      "   3.97773409e-04   1.08316353e-03   5.17153778e-04   3.47375795e-03\n",
      "   2.33788196e-04   5.99958343e-04   2.67665893e-04   1.69438901e-03\n",
      "   7.61192574e-04   9.79670591e-04   2.16572424e-04   6.87559454e-04\n",
      "   8.76489982e-04   1.06309658e-03   2.19604924e-04   6.57036370e-04\n",
      "   9.62496205e-04   1.49194880e-03   3.93300647e-04   1.50383825e-03\n",
      "   7.16819173e-04   1.04713999e-03   2.57941814e-04   9.29476585e-04\n",
      "   2.06123633e-03   1.39675048e-03   4.19579622e-03   7.01337406e-03\n",
      "   1.38273669e-03   8.83020462e-04   2.47863506e-03   3.90450013e-03\n",
      "   7.21985108e-04   5.89235153e-04   2.11072600e-03   4.24926524e-03\n",
      "   3.13255073e-04   2.40934371e-04   8.06470035e-04   1.53006702e-03\n",
      "   1.58389509e-03   6.10961818e-04   1.01333885e-03   9.64192886e-04\n",
      "   1.34636207e-03   4.89429071e-04   7.58536791e-04   6.80183538e-04\n",
      "   2.00113685e-03   9.29680692e-04   1.83874748e-03   2.10717539e-03\n",
      "   1.10019690e-03   4.81690052e-04   8.90229989e-04   9.61437489e-04\n",
      "   1.40274779e-03   7.58058115e-04   2.04690278e-03   2.72861144e-03\n",
      "   7.09098171e-04   3.61134941e-04   9.11193240e-04   1.14470928e-03\n",
      "   1.65508404e-04   1.07723964e-04   3.46860379e-04   5.56888871e-04\n",
      "   5.41134217e-05   3.31923122e-05   9.98679512e-05   1.51105483e-04\n",
      "   1.46668680e-03   4.51187340e-04   6.72661679e-04   5.10431867e-04\n",
      "   9.39480801e-04   2.72362723e-04   3.79431790e-04   2.71340765e-04\n",
      "   6.24205750e-04   2.31268589e-04   4.11153591e-04   3.75763460e-04\n",
      "   2.58604730e-04   9.02953921e-05   1.50002773e-04   1.29196273e-04\n",
      "   7.65933140e-04   1.72515568e-03   1.07597273e-03   5.97805996e-03\n",
      "   3.93027417e-04   8.34258261e-04   4.86205370e-04   2.54576899e-03\n",
      "   5.12884291e-04   1.39131733e-03   1.03477713e-03   6.92428905e-03\n",
      "   1.70219597e-04   4.35167639e-04   3.02429034e-04   1.90718178e-03\n",
      "   9.51571839e-04   1.22004437e-03   4.20139645e-04   1.32876837e-03\n",
      "   6.18724511e-04   7.47603979e-04   2.40566919e-04   7.17020812e-04\n",
      "   2.29837051e-03   3.54914262e-03   1.45743483e-03   5.55154836e-03\n",
      "   9.66571432e-04   1.40662264e-03   5.39746159e-04   1.93755831e-03\n",
      "   6.86425011e-04   1.23299806e-03   6.91249012e-04   3.06284762e-03\n",
      "   2.65423980e-04   4.49313729e-04   2.35379200e-04   9.82877034e-04\n",
      "   1.54832327e-04   3.34965672e-04   2.23934024e-04   1.19503416e-03\n",
      "   3.87228105e-05   7.89488430e-05   4.93187224e-05   2.48034612e-04\n",
      "   1.16038734e-03   1.18650314e-03   3.67270535e-04   9.26346723e-04\n",
      "   5.68556717e-04   5.47873054e-04   1.58468666e-04   3.76678750e-04\n",
      "   9.44107499e-04   1.16267068e-03   4.29162309e-04   1.30370227e-03\n",
      "   2.99192314e-04   3.47236960e-04   1.19766969e-04   3.42873677e-04\n",
      "   8.45421841e-04   4.65573062e-04   7.81651933e-04   1.06181623e-03\n",
      "   1.65579113e-03   8.59330387e-04   1.34813069e-03   1.72587043e-03\n",
      "   2.24324897e-03   1.48785711e-03   2.97875264e-03   4.87348641e-03\n",
      "   2.84163137e-03   1.77619942e-03   3.32285358e-03   5.12338227e-03\n",
      "   3.75714952e-04   1.17779437e-04   1.09179249e-04   8.44253110e-05\n",
      "   9.32425885e-04   2.75464446e-04   2.38606597e-04   1.73882250e-04\n",
      "   3.59593983e-03   1.35766548e-03   1.50075936e-03   1.39769687e-03\n",
      "   5.77200147e-03   2.05374742e-03   2.12134634e-03   1.86188884e-03\n",
      "   3.23223485e-03   1.41954496e-03   2.14226836e-03   2.32082124e-03\n",
      "   4.77034806e-03   1.97440640e-03   2.78424555e-03   2.84259894e-03\n",
      "   2.88899591e-03   1.52813787e-03   2.75001405e-03   3.58816244e-03\n",
      "   2.75773328e-03   1.37470056e-03   2.31167485e-03   2.84252418e-03\n",
      "   1.95455136e-03   4.88641047e-04   4.07154964e-04   2.51086963e-04\n",
      "   3.65525771e-03   8.61194203e-04   6.70528358e-04   3.89692294e-04\n",
      "   6.30145776e-03   1.89737535e-03   1.88525758e-03   1.40024649e-03\n",
      "   7.62202059e-03   2.16283097e-03   2.00810439e-03   1.40559538e-03\n",
      "   3.09527972e-04   5.66579258e-04   1.97498430e-04   8.91755895e-04\n",
      "   4.63716209e-04   7.99932392e-04   2.60556867e-04   1.10872822e-03\n",
      "   1.57011694e-03   3.46148245e-03   1.43884087e-03   7.82464194e-03\n",
      "   1.52139697e-03   3.16091575e-03   1.22774964e-03   6.29218902e-03\n",
      "   2.22401141e-04   2.31736474e-04   4.46007784e-05   1.14636098e-04\n",
      "   4.22195054e-04   4.14582305e-04   7.45598575e-05   1.80602710e-04\n",
      "   4.06929367e-03   5.10676392e-03   1.17203742e-03   3.62818815e-03\n",
      "   4.99635555e-03   5.90908616e-03   1.26724996e-03   3.69701186e-03\n",
      "   1.55840301e-03   2.27495291e-03   7.12811252e-04   2.56678062e-03\n",
      "   1.75932966e-03   2.42036071e-03   7.08644619e-04   2.40482200e-03\n",
      "   2.66288175e-03   4.68181102e-03   1.74929747e-03   7.58660094e-03\n",
      "   1.94436368e-03   3.22166024e-03   1.12480125e-03   4.59726564e-03\n",
      "   1.52361785e-03   1.26609210e-03   2.19034487e-04   4.48976200e-04\n",
      "   2.17955209e-03   1.70685543e-03   2.75924461e-04   5.33017244e-04\n",
      "   9.39070240e-03   9.39845985e-03   1.93888275e-03   4.78665065e-03\n",
      "   8.68855295e-03   8.19494989e-03   1.57974658e-03   3.67542737e-03\n",
      "   1.48290170e-03   6.48794449e-04   1.52520000e-03   1.64605041e-03\n",
      "   1.23584171e-03   5.09562957e-04   1.11934454e-03   1.13846677e-03\n",
      "   2.53180562e-03   1.33411875e-03   3.73991570e-03   4.86124504e-03\n",
      "   1.36470574e-03   6.77709205e-04   1.77523959e-03   2.17461767e-03\n",
      "   1.66071041e-03   4.13604527e-04   5.36846372e-04   3.29809355e-04\n",
      "   1.75375188e-03   4.11623122e-04   4.99241599e-04   2.89043995e-04\n",
      "   1.02273196e-02   3.06776839e-03   4.74826513e-03   3.51331650e-03\n",
      "   6.98544763e-03   1.97467315e-03   2.85597156e-03   1.99148220e-03\n",
      "   1.80074247e-03   6.28316165e-04   1.32769116e-03   1.14273429e-03\n",
      "   1.13088167e-03   3.71863907e-04   7.34258737e-04   5.95576507e-04\n",
      "   1.03564189e-03   4.35216747e-04   1.09666020e-03   1.13681461e-03\n",
      "   4.20662055e-04   1.66597917e-04   3.92267491e-04   3.83212898e-04\n",
      "   2.74405186e-03   5.45023909e-04   6.35886276e-04   3.11547495e-04\n",
      "   2.18364295e-03   4.08738084e-04   4.45610346e-04   2.05750223e-04\n",
      "   5.69246328e-03   1.36173576e-03   1.89454269e-03   1.11794020e-03\n",
      "   2.92986577e-03   6.60511780e-04   8.58693912e-04   4.77521356e-04\n",
      "   1.00799758e-03   1.46588749e-03   7.15480372e-04   2.56661334e-03\n",
      "   6.42584522e-04   8.80666848e-04   4.01656684e-04   1.35786927e-03\n",
      "   3.29007324e-03   5.76256826e-03   3.35398274e-03   1.44908183e-02\n",
      "   1.35654596e-03   2.23916072e-03   1.21780085e-03   4.95848037e-03\n",
      "   1.82512715e-03   1.51088319e-03   4.07167441e-04   8.31442804e-04\n",
      "   1.47430607e-03   1.15017958e-03   2.89637021e-04   5.57382907e-04\n",
      "   2.14876602e-02   2.14237878e-02   6.88471656e-03   1.69322537e-02\n",
      "   1.12264340e-02   1.05484633e-02   3.16756306e-03   7.34165900e-03\n",
      "   1.61194108e-03   1.86948582e-03   8.20197461e-04   2.34645920e-03\n",
      "   7.74345906e-04   8.46346608e-04   3.46969074e-04   9.35460795e-04\n",
      "   1.77229187e-03   2.47558377e-03   1.29515434e-03   4.46257448e-03\n",
      "   5.50654590e-04   7.24872930e-04   3.54365999e-04   1.15068442e-03\n",
      "   3.97138475e-03   2.62187264e-03   6.35115780e-04   1.03429423e-03\n",
      "   2.41741695e-03   1.50404707e-03   3.40446602e-04   5.22492959e-04\n",
      "   1.57499062e-02   1.25232475e-02   3.61747827e-03   7.09523031e-03\n",
      "   6.20077173e-03   4.64648966e-03   1.25418097e-03   2.31825395e-03]\n"
     ]
    }
   ],
   "source": [
    "p = f.get_probs(L)\n",
    "print p\n",
    "\n",
    "si,sisj = ent.calc_sisj(ent.get_all_states(n,sym=True),weighted=p)"
   ]
  },
  {
   "cell_type": "code",
   "execution_count": 5,
   "metadata": {
    "collapsed": false
   },
   "outputs": [
    {
     "data": {
      "text/plain": [
       "array([ 0.27306203, -0.02618783,  0.09981274, -0.10582944, -0.0147785 ,\n",
       "        0.2936892 , -0.16785561, -0.00655142,  0.11894657,  0.13654151,\n",
       "        0.23506534,  0.01970068,  0.2614403 ,  0.41867406, -0.0566117 ,\n",
       "       -0.21635908, -0.06951404,  0.1750233 , -0.21580043,  0.22667512,\n",
       "        0.08479226, -0.18043367, -0.05104533, -0.03991841, -0.00758034,\n",
       "        0.19005293,  0.24838819, -0.11556088, -0.09499991,  0.2083978 ,\n",
       "        0.0162807 , -0.19227179,  0.02076934, -0.11023114, -0.08375287,\n",
       "        0.28701932, -0.00619287, -0.31744035, -0.16038306, -0.12940005,\n",
       "       -0.05647682,  0.05426197, -0.03053915, -0.0563927 ,  0.23848875])"
      ]
     },
     "execution_count": 5,
     "metadata": {},
     "output_type": "execute_result"
    }
   ],
   "source": [
    "concatenate((si,sisj))"
   ]
  },
  {
   "cell_type": "code",
   "execution_count": 6,
   "metadata": {
    "collapsed": false
   },
   "outputs": [
    {
     "data": {
      "text/plain": [
       "[<matplotlib.lines.Line2D at 0x105fcb1d0>,\n",
       " <matplotlib.lines.Line2D at 0x105b77250>]"
      ]
     },
     "execution_count": 6,
     "metadata": {},
     "output_type": "execute_result"
    },
    {
     "data": {
      "image/png": "[encoded data removed]",
      "text/plain": [
       "<matplotlib.figure.Figure at 0x105b77490>"
      ]
     },
     "metadata": {},
     "output_type": "display_data"
    }
   ],
   "source": [
    "plt.plot(concatenate((si,sisj)),f.get_stats(L),'.',\n",
    "         [0,1],'-')"
   ]
  },
  {
   "cell_type": "code",
   "execution_count": 8,
   "metadata": {
    "collapsed": false
   },
   "outputs": [
    {
     "name": "stdout",
     "output_type": "stream",
     "text": [
      "Distance is 0.000000\n",
      "\n"
     ]
    },
    {
     "name": "stderr",
     "output_type": "stream",
     "text": [
      "/usr/bin/anaconda/lib/python2.7/site-packages/scipy/optimize/minpack.py:237: RuntimeWarning: The iteration is not making good progress, as measured by the \n",
      "  improvement from the last ten iterations.\n",
      "  warnings.warn(msg, RuntimeWarning)\n"
     ]
    },
    {
     "data": {
      "text/plain": [
       "array([ 0.26137447, -0.1088348 , -0.00718948, -0.0976821 , -0.1218028 ,\n",
       "        0.22045355, -0.16585071, -0.02276788,  0.11381187,  0.1341011 ,\n",
       "        0.15098284,  0.14476781,  0.0941659 ,  0.39599717,  0.05424821,\n",
       "       -0.1706631 , -0.10937065,  0.15468806, -0.28672377,  0.23106242,\n",
       "       -0.11022821, -0.21361174,  0.02663774, -0.05751836,  0.06881876,\n",
       "        0.1201098 ,  0.16200303, -0.06699355, -0.09272291,  0.3002838 ,\n",
       "        0.07699796, -0.2720274 , -0.07073825, -0.08322059, -0.05656769,\n",
       "        0.32072128,  0.05919011, -0.28935339, -0.14086259, -0.10893635,\n",
       "        0.09050139,  0.04649458, -0.03178344, -0.01482851,  0.22572332])"
      ]
     },
     "execution_count": 8,
     "metadata": {},
     "output_type": "execute_result"
    }
   ],
   "source": [
    "J = exact.solve_ising(9,concatenate((si,sisj)),zeros((45)),sym=True)"
   ]
  },
  {
   "cell_type": "code",
   "execution_count": 14,
   "metadata": {
    "collapsed": false,
    "scrolled": true
   },
   "outputs": [
    {
     "data": {
      "text/plain": [
       "[<matplotlib.lines.Line2D at 0x1065a8790>,\n",
       " <matplotlib.lines.Line2D at 0x10662da90>]"
      ]
     },
     "execution_count": 14,
     "metadata": {},
     "output_type": "execute_result"
    },
    {
     "data": {
      "image/png": "[encoded data removed]",
      "text/plain": [
       "<matplotlib.figure.Figure at 0x1064700d0>"
      ]
     },
     "metadata": {},
     "output_type": "display_data"
    }
   ],
   "source": [
    "# This is the symmetrized formulation.\n",
    "fig,ax = plt.subplots(figsize=(4.5,4))\n",
    "ax.plot(J,L,'.',[-1,1],[-1,1],'k-')"
   ]
  },
  {
   "cell_type": "code",
   "execution_count": null,
   "metadata": {
    "collapsed": false
   },
   "outputs": [],
   "source": []
  }
 ],
 "metadata": {
  "kernelspec": {
   "display_name": "Python 2",
   "language": "python",
   "name": "python2"
  },
  "language_info": {
   "codemirror_mode": {
    "name": "ipython",
    "version": 2
   },
   "file_extension": ".py",
   "mimetype": "text/x-python",
   "name": "python",
   "nbconvert_exporter": "python",
   "pygments_lexer": "ipython2",
   "version": "2.7.12"
  }
 },
 "nbformat": 4,
 "nbformat_minor": 0
}
