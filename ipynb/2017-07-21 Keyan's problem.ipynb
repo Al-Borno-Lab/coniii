{
 "cells": [
  {
   "cell_type": "markdown",
   "metadata": {},
   "source": [
    "# Keyan's problem."
   ]
  },
  {
   "cell_type": "code",
   "execution_count": 1,
   "metadata": {
    "collapsed": false,
    "scrolled": true
   },
   "outputs": [
    {
     "name": "stdout",
     "output_type": "stream",
     "text": [
      "Populating the interactive namespace from numpy and matplotlib\n",
      "The autoreload extension is already loaded. To reload it, use:\n",
      "  %reload_ext autoreload\n"
     ]
    }
   ],
   "source": [
    "# Setup iPython environment.\n",
    "%pylab inline\n",
    "plt.rc('font',size=20)\n",
    "\n",
    "%load_ext autoreload\n",
    "%autoreload 2"
   ]
  },
  {
   "cell_type": "code",
   "execution_count": 2,
   "metadata": {
    "collapsed": true
   },
   "outputs": [],
   "source": [
    "# Import common libraries.\n",
    "from __future__ import division\n",
    "from solvers import *\n",
    "from utils import *\n",
    "import ising_eqn_3_sym\n",
    "import pandas as pd\n",
    "import os\n",
    "N = 3"
   ]
  },
  {
   "cell_type": "code",
   "execution_count": 10,
   "metadata": {
    "collapsed": false
   },
   "outputs": [],
   "source": [
    "X = pd.read_csv(os.path.expanduser('~')+'/Downloads/data_0.0_0.0_5.0.csv',header=None).values*2.-1\n",
    "X = pd.read_csv(os.path.expanduser('~')+'/Downloads/data_0.0_0.0_0.0.csv',header=None).values*2.-1"
   ]
  },
  {
   "cell_type": "code",
   "execution_count": 11,
   "metadata": {
    "collapsed": false
   },
   "outputs": [],
   "source": [
    "# Define common functions.\n",
    "@jit(nopython=True)\n",
    "def calc_observables(X):\n",
    "    obs = np.zeros(( X.shape[0],X.shape[1]*(X.shape[1]-1)//2+X.shape[1] ))\n",
    "\n",
    "    for rowIx in xrange(len(X)):\n",
    "        k = 0\n",
    "        for i in xrange(X.shape[1]):\n",
    "            obs[rowIx,i] = X[rowIx,i]\n",
    "            for j in xrange(i+1,X.shape[1]):\n",
    "                obs[rowIx,k+X.shape[1]] = (X[rowIx,i]==X[rowIx,j])*2.-1\n",
    "                k += 1\n",
    "    return obs\n",
    "\n",
    "sisjTrue = calc_observables(X).mean(0)"
   ]
  },
  {
   "cell_type": "code",
   "execution_count": 12,
   "metadata": {
    "collapsed": false
   },
   "outputs": [],
   "source": [
    "solver = Exact(N,\n",
    "               calc_observables_multipliers=ising_eqn_3_sym.calc_observables,\n",
    "               calc_observables=calc_observables)\n",
    "estMultipliers,soln = solver.solve(constraints=sisjTrue,fsolve_kwargs={})"
   ]
  },
  {
   "cell_type": "code",
   "execution_count": 13,
   "metadata": {
    "collapsed": false
   },
   "outputs": [
    {
     "data": {
      "text/plain": [
       "[<matplotlib.text.Text at 0x7feccf37bbd0>,\n",
       " <matplotlib.text.Text at 0x7feccf282d10>]"
      ]
     },
     "execution_count": 13,
     "metadata": {},
     "output_type": "execute_result"
    },
    {
     "data": {
      "image/png": "[encoded data removed]",
      "text/plain": [
       "<matplotlib.figure.Figure at 0x7feccf399950>"
      ]
     },
     "metadata": {},
     "output_type": "display_data"
    }
   ],
   "source": [
    "# Plot comparison of model results with the data.\n",
    "fig,ax = plt.subplots(figsize=(5.4,4))\n",
    "ax.plot(sisjTrue,ising_eqn_3_sym.calc_observables(estMultipliers),'o')\n",
    "ax.plot([-1,1],[-1,1],'k-')\n",
    "ax.set(xlabel='True correlations',ylabel='Predicted correlations')"
   ]
  },
  {
   "cell_type": "code",
   "execution_count": 9,
   "metadata": {
    "collapsed": false
   },
   "outputs": [
    {
     "data": {
      "text/plain": [
       "array([-0.027 ,  0.0141, -0.0352, -0.0352,  0.0141, -0.027 ])"
      ]
     },
     "execution_count": 9,
     "metadata": {},
     "output_type": "execute_result"
    }
   ],
   "source": [
    "estMultipliers"
   ]
  },
  {
   "cell_type": "code",
   "execution_count": 14,
   "metadata": {
    "collapsed": false
   },
   "outputs": [
    {
     "data": {
      "text/plain": [
       "array([ 0.0441, -0.0405,  0.0176,  0.0461, -0.0119,  0.0272])"
      ]
     },
     "execution_count": 14,
     "metadata": {},
     "output_type": "execute_result"
    }
   ],
   "source": [
    "estMultipliers"
   ]
  },
  {
   "cell_type": "markdown",
   "metadata": {},
   "source": [
    "## Minimum probability flow (MPF)"
   ]
  },
  {
   "cell_type": "code",
   "execution_count": 35,
   "metadata": {
    "collapsed": false
   },
   "outputs": [],
   "source": [
    "# Declare and call solver.\n",
    "solver = MPF(N,calc_observables=calc_observables,adj=adj)\n",
    "estMultipliers,soln = solver.solve(X)"
   ]
  },
  {
   "cell_type": "code",
   "execution_count": null,
   "metadata": {
    "collapsed": true
   },
   "outputs": [],
   "source": [
    "# Plot comparison of model results with the data.\n",
    "fig,ax = plt.subplots(figsize=(10.5,4),ncols=2)\n",
    "ax[0].plot(sisj,ising_eqn_5_sym.calc_observables(estMultipliers),'o')\n",
    "ax[0].plot([-1,1],[-1,1],'k-')\n",
    "ax[0].set(xlabel='True correlations',ylabel='Predicted correlations')\n",
    "\n",
    "ax[1].plot(hJ,estMultipliers,'o')\n",
    "ax[1].plot([-1,1],[-1,1],'k-')\n",
    "ax[1].set(xlabel='True parameters',ylabel='Solved parameters')\n",
    "\n",
    "fig.subplots_adjust(wspace=.5)"
   ]
  }
 ],
 "metadata": {
  "kernelspec": {
   "display_name": "Python 2",
   "language": "python",
   "name": "python2"
  },
  "language_info": {
   "codemirror_mode": {
    "name": "ipython",
    "version": 2
   },
   "file_extension": ".py",
   "mimetype": "text/x-python",
   "name": "python",
   "nbconvert_exporter": "python",
   "pygments_lexer": "ipython2",
   "version": "2.7.12"
  }
 },
 "nbformat": 4,
 "nbformat_minor": 1
}
