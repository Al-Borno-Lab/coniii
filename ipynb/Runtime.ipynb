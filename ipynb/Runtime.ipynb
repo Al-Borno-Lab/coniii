{
 "cells": [
  {
   "cell_type": "markdown",
   "metadata": {},
   "source": [
    "# Runtime\n",
    "\n",
    "Runtime as a function of system size."
   ]
  },
  {
   "cell_type": "code",
   "execution_count": null,
   "metadata": {
    "scrolled": false
   },
   "outputs": [],
   "source": [
    "# Setup iPython environment.\n",
    "%pylab inline\n",
    "plt.rc('font',size=20)\n",
    "\n",
    "%load_ext autoreload\n",
    "%autoreload 2"
   ]
  },
  {
   "cell_type": "markdown",
   "metadata": {},
   "source": [
    "# Sampling"
   ]
  },
  {
   "cell_type": "code",
   "execution_count": null,
   "metadata": {},
   "outputs": [],
   "source": [
    "%load_ext line_profiler"
   ]
  },
  {
   "cell_type": "code",
   "execution_count": null,
   "metadata": {},
   "outputs": [],
   "source": [
    "from coniii.samplers import *\n",
    "from coniii.utils import define_ising_helper_functions"
   ]
  },
  {
   "cell_type": "code",
   "execution_count": null,
   "metadata": {},
   "outputs": [],
   "source": [
    "n=10\n",
    "theta = np.random.normal(size=n+n*(n-1)//2)\n",
    "calc_e,_,_ = define_ising_helper_functions()\n",
    "\n",
    "sampler=FastMCIsing(n, theta)"
   ]
  },
  {
   "cell_type": "code",
   "execution_count": 13,
   "metadata": {
    "scrolled": true
   },
   "outputs": [
    {
     "name": "stdout",
     "output_type": "stream",
     "text": [
      "1.33 s ± 25.3 ms per loop (mean ± std. dev. of 7 runs, 1 loop each)\n"
     ]
    }
   ],
   "source": [
    "%timeit sampler.generate_samples(100)"
   ]
  },
  {
   "cell_type": "code",
   "execution_count": 14,
   "metadata": {},
   "outputs": [
    {
     "name": "stdout",
     "output_type": "stream",
     "text": [
      "687 ms ± 12.7 ms per loop (mean ± std. dev. of 7 runs, 1 loop each)\n"
     ]
    }
   ],
   "source": [
    "%timeit sampler.generate_samples_parallel(100)"
   ]
  },
  {
   "cell_type": "code",
   "execution_count": 15,
   "metadata": {},
   "outputs": [],
   "source": [
    "sampler=Metropolis(n, theta, calc_e)"
   ]
  },
  {
   "cell_type": "code",
   "execution_count": 16,
   "metadata": {},
   "outputs": [
    {
     "name": "stdout",
     "output_type": "stream",
     "text": [
      "2.73 s ± 98 ms per loop (mean ± std. dev. of 7 runs, 1 loop each)\n"
     ]
    }
   ],
   "source": [
    "%timeit sampler.generate_samples(100)"
   ]
  },
  {
   "cell_type": "code",
   "execution_count": 17,
   "metadata": {},
   "outputs": [
    {
     "name": "stdout",
     "output_type": "stream",
     "text": [
      "1.32 s ± 18.3 ms per loop (mean ± std. dev. of 7 runs, 1 loop each)\n"
     ]
    }
   ],
   "source": [
    "%timeit sampler.generate_samples_parallel(100)"
   ]
  },
  {
   "cell_type": "code",
   "execution_count": null,
   "metadata": {},
   "outputs": [],
   "source": [
    "# Import common libraries.\n",
    "from coniii import *\n",
    "\n",
    "# Add path to files for solving the n=5 system exactly. This is included as an example for the package, but you can create your own by using the exact module.\n",
    "# To create ising_eqn_5_sym.py, run in the shell\n",
    "# >>> python exact.py 5 1\n",
    "from coniii.ising_eqn import ising_eqn_5_sym\n",
    "\n",
    "# Define common functions.\n",
    "calc_e, calc_observables, mchApproximation = define_ising_helper_functions()\n",
    "\n",
    "# Generate example data set.\n",
    "n = 5  # system size\n",
    "np.random.seed(0)  # standardize random seed\n",
    "h,J = np.random.normal(scale=.1, size=n), np.random.normal(scale=.1, size=n*(n-1)//2)  # random fields, couplings\n",
    "hJ = np.concatenate((h, J))\n",
    "p = ising_eqn_5_sym.p(hJ)  # probability distribution of all states p(s)\n",
    "sisjTrue = ising_eqn_5_sym.calc_observables(hJ)  # exact magnetizations and pairwise correlations\n",
    "\n",
    "allstates = bin_states(n, True)  # all 2^n possible binary states in {-1,1} basis\n",
    "sample = allstates[np.random.choice(range(2**n),\n",
    "                                    size=100,\n",
    "                                    replace=True,\n",
    "                                    p=p)]  # random sample from p(s)\n",
    "sisj = pair_corr(sample, concat=True)  # magnetizations and pairwise correlations of random sample\n",
    "\n",
    "def error_on_correlations(estSisj):\n",
    "    return np.linalg.norm( sisj - estSisj )\n",
    "\n",
    "def error_on_multipliers(estMultipliers):\n",
    "    return np.linalg.norm( hJ - estMultipliers )"
   ]
  },
  {
   "cell_type": "code",
   "execution_count": null,
   "metadata": {},
   "outputs": [],
   "source": [
    "# Sampling parameters must be set here (in case you want to immediately sample using \n",
    "# the given set of parameters)\n",
    "solver = MCH(n,\n",
    "             calc_observables=calc_observables,\n",
    "             sample_size=100,\n",
    "             sample_method='ising_metropolis',\n",
    "             mch_approximation=mchApproximation,\n",
    "             n_jobs=1 )\n",
    "\n",
    "# Define function for changing learning parameters as we converge.\n",
    "def learn_settings(i):\n",
    "    \"\"\"\n",
    "    Take in the iteration counter and set the maximum change allowed in any given \n",
    "    parameter (maxdlamda) and the multiplicative factor eta, where \n",
    "    d(parameter) = (error in observable) * eta.\n",
    "    \n",
    "    Additional option is to also return the sample size for that step by returning a \n",
    "    tuple. Larger sample sizes are necessary for higher accuracy.\n",
    "    \"\"\"\n",
    "    return {'maxdlamda':exp(-i/5.),'eta':exp(-i/5.)}\n",
    "\n",
    "# Run solver.\n",
    "# solver.sampler.update_parameters(hJ)\n",
    "# X=np.random.choice([-1.,1.], size=(1000,n))\n",
    "# %lprun -f solver.sampler.generate_samples_parallel solver.sampler.generate_samples_parallel(1000,initial_sample=X)\n",
    "%lprun -f solver.sampler.generate_samples solver.solve(constraints=sisj,maxiter=1,custom_convergence_f=learn_settings)"
   ]
  },
  {
   "cell_type": "code",
   "execution_count": null,
   "metadata": {},
   "outputs": [],
   "source": [
    "# Sampling parameters must be set here (in case you want to immediately sample using \n",
    "# the given set of parameters)\n",
    "solver = MCH(n,\n",
    "             calc_observables=calc_observables,\n",
    "             sample_size=100,\n",
    "             sample_method='metropolis',\n",
    "             mch_approximation=mchApproximation)\n",
    "\n",
    "# Define function for changing learning parameters as we converge.\n",
    "def learn_settings(i):\n",
    "    \"\"\"\n",
    "    Take in the iteration counter and set the maximum change allowed in any given \n",
    "    parameter (maxdlamda) amnd the multiplicative factor eta, where \n",
    "    d(parameter) = (error in observable) * eta.\n",
    "    \n",
    "    Additional option is to also return the sample size for that step by returning a \n",
    "    tuple. Larger sample sizes are necessary for higher accuracy.\n",
    "    \"\"\"\n",
    "    return {'maxdlamda':exp(-i/5.),'eta':exp(-i/5.)}\n",
    "\n",
    "# Run solver.\n",
    "# solver.sampler.theta=hJ\n",
    "# X=np.random.choice([-1.,1.], size=(1000,n))\n",
    "# %lprun -f solver.sampler.generate_samples_parallel solver.sampler.generate_samples_parallel(1000,initial_sample=X)\n",
    "%lprun -f solver.sampler.generate_samples_parallel solver.solve(constraints=sisj,maxiter=1,custom_convergence_f=learn_settings)"
   ]
  },
  {
   "cell_type": "markdown",
   "metadata": {},
   "source": [
    "# Inverse maxent algorithms"
   ]
  },
  {
   "cell_type": "code",
   "execution_count": 3,
   "metadata": {},
   "outputs": [],
   "source": [
    "# Import common libraries.\n",
    "from coniii import *\n",
    "import importlib\n",
    "from misc.plot import colorcycle\n",
    "\n",
    "# Define common functions.\n",
    "calc_e,calc_observables,mchApproximation = define_ising_helpers_functions()\n",
    "\n",
    "\n",
    "def generate_random_systems(n,n_iters,rng=np.random.RandomState(0),n_sample=20):\n",
    "    ising_eqn = importlib.import_module('coniii.ising_eqn.ising_eqn_%d_sym'%n)\n",
    "    allstates = bin_states(n,True)  # all 2^n possible binary states in {-1,1} basis\n",
    "    \n",
    "    # Generate example data set.\n",
    "    h = np.random.normal(scale=.1,size=(n_iters,n))  # random fields\n",
    "    J = np.random.normal(scale=.1,size=(n_iters,n*(n-1)//2))  # couplings\n",
    "    sisjTrue = np.zeros((n_iters,n+n*(n-1)//2))\n",
    "    p = np.zeros((n_iters,2**n))\n",
    "    sample = np.zeros((n_iters,n_sample,n))\n",
    "    for i in xrange(n_iters):\n",
    "        hJ = np.concatenate(( h[i],J[i] ))\n",
    "        p[i] = ising_eqn.p(hJ)  # probability distribution of all states p(s)\n",
    "        sisjTrue[i] = ising_eqn.calc_observables(hJ)  # exact magnetizations and pairwise correlations\n",
    "        sample[i,:,:] = allstates[np.random.choice(range(2**n),size=n_sample)]\n",
    "    return h,J,p,sisjTrue,sample\n",
    "\n",
    "def runtime_enumerate(n,sisjTrue):\n",
    "    # Exact.\n",
    "    allstates = bin_states(n,True)  # all 2^n possible binary states in {-1,1} basis\n",
    "    def calc_observables_multipliers(J):\n",
    "        \"\"\"\n",
    "        Calculate observables from probability distribution given Langrangian multipliers.\n",
    "        \"\"\"\n",
    "        E = calc_e(allstates,J)\n",
    "        return pair_corr( allstates, np.exp(-E-logsumexp(E)),concat=True )\n",
    "\n",
    "    # Generate example data set.\n",
    "    solver = Enumerate(n,\n",
    "                   calc_observables_multipliers=calc_observables_multipliers,\n",
    "                   calc_observables=calc_observables)\n",
    "    start = datetime.now()\n",
    "    estMultipliers,soln = solver.solve(constraints=sisjTrue,fsolve_kwargs={})\n",
    "    end = datetime.now()\n",
    "\n",
    "    error = np.linalg.norm( calc_observables_multipliers(estMultipliers)-sisjTrue )\n",
    "    runtime = (end-start).total_seconds()\n",
    "    return error,runtime\n",
    "\n",
    "def runtime_mpf(n,sample):\n",
    "    solver = MPF(n,calc_observables=calc_observables,adj=adj)\n",
    "    start = datetime.now()\n",
    "    estMultipliers,soln = solver.solve(sample)\n",
    "    end = datetime.now()\n",
    "    \n",
    "    # Error and runtime.\n",
    "    ising_eqn = importlib.import_module('coniii.ising_eqn.ising_eqn_%d_sym'%n)\n",
    "    error = np.linalg.norm( ising_eqn.calc_observables(estMultipliers)-sisjTrue )\n",
    "    runtime = (end-start).total_seconds()\n",
    "    return error,runtime\n",
    "\n",
    "def runtime_pseudo(n,sample):\n",
    "    \"\"\"\n",
    "    Pseudolikelihood.\n",
    "    \"\"\"\n",
    "    get_multipliers_r,calc_observables_r = define_pseudo_ising_helpers(n)\n",
    "    solver = Pseudo(n,calc_observables=calc_observables,\n",
    "                    calc_observables_r=calc_observables_r,\n",
    "                    get_multipliers_r=get_multipliers_r)\n",
    "    start = datetime.now()\n",
    "    estMultipliers,_ = solver.solve(sample,np.zeros(n+n*(n-1)//2))\n",
    "    end = datetime.now()\n",
    "    \n",
    "    # Error and runtime.\n",
    "    ising_eqn = importlib.import_module('coniii.ising_eqn.ising_eqn_%d_sym'%n)\n",
    "    error = np.linalg.norm( ising_eqn.calc_observables(estMultipliers)-sisjTrue )\n",
    "    runtime = (end-start).total_seconds()\n",
    "    return error,runtime\n",
    "\n",
    "def runtime_cluster(n,sample,threshold=.3):\n",
    "    # Adaptive cluster expansion.\n",
    "    solver = ClusterExpansion(n,calc_observables=calc_observables)\n",
    "    start = datetime.now()\n",
    "    estMultipliers = solver.solve(sample,threshold)\n",
    "    end = datetime.now()\n",
    "    \n",
    "    # Error and runtime.\n",
    "    ising_eqn = importlib.import_module('coniii.ising_eqn.ising_eqn_%d_sym'%n)\n",
    "    error = np.linalg.norm( ising_eqn.calc_observables(estMultipliers)-sisjTrue )\n",
    "    runtime = (end-start).total_seconds()\n",
    "    return error,runtime\n",
    "\n",
    "\n",
    "# Define function for changing learning parameters as we converge.\n",
    "def learn_settings(i):\n",
    "    \"\"\"\n",
    "    Take in the iteration counter and set the maximum change allowed in any given parameter (maxdlamda)\n",
    "    and the multiplicative factor eta, where d(parameter) = (error in observable) * eta.\n",
    "    \n",
    "    Additional option is to also return the sample size for that step by returning a tuple. Larger \n",
    "    sample sizes are necessary for higher accuracy.\n",
    "    \"\"\"\n",
    "    if i<10:\n",
    "        return {'maxdlamda':1,'eta':1}\n",
    "    elif i<20:\n",
    "        return {'maxdlamda':.1,'eta':.1}\n",
    "    else:\n",
    "        return {'maxdlamda':.05,'eta':.05}\n",
    "\n",
    "def runtime_mch(n,sisjTrue):\n",
    "    # MCH.\n",
    "    # Import exact equations for Ising model with n spins.\n",
    "    solver = MCH(n,calc_observables=calc_observables,\n",
    "                 sample_size=100,\n",
    "                 sample_method='metropolis',\n",
    "                 mch_approximation=mchApproximation)\n",
    "    start = datetime.now()\n",
    "    estMultipliers = solver.solve(sisjTrue,maxiter=40,custom_convergence_f=learn_settings)\n",
    "    end = datetime.now()\n",
    "    \n",
    "    # Error and runtime.\n",
    "    ising_eqn = importlib.import_module('coniii.ising_eqn.ising_eqn_%d_sym'%n)\n",
    "    error = np.linalg.norm( ising_eqn.calc_observables(estMultipliers)-sisjTrue )\n",
    "    runtime = (end-start).total_seconds()\n",
    "    return error,runtime\n",
    "\n",
    "# Regularized MF.\n",
    "def runtime_mf(n,sample):\n",
    "    solver = RegularizedMeanField(n,calc_observables=calc_observables)\n",
    "    start = datetime.now()\n",
    "    estMultipliers = solver.solve(sample,numSamples=100)\n",
    "    end = datetime.now()\n",
    "    \n",
    "    # Error and runtime.\n",
    "    ising_eqn = importlib.import_module('coniii.ising_eqn.ising_eqn_%d_sym'%n)\n",
    "    error = np.linalg.norm( ising_eqn.calc_observables(estMultipliers)-sisjTrue )\n",
    "    runtime = (end-start).total_seconds()\n",
    "    return error,runtime"
   ]
  },
  {
   "cell_type": "markdown",
   "metadata": {},
   "source": [
    "# Runtime as a function of n."
   ]
  },
  {
   "cell_type": "code",
   "execution_count": 59,
   "metadata": {
    "collapsed": true
   },
   "outputs": [],
   "source": [
    "# Generate random systems to test across methods.\n",
    "nrange = range(6,16,2)\n",
    "\n",
    "# Errors and runtimes in order of exact,MPF,pseudo,cluster,MCH,mean field.\n",
    "error = [np.zeros((len(nrange),10)) for i in xrange(6)]\n",
    "runtime = [np.zeros((len(nrange),10)) for i in xrange(6)]\n",
    "for ncount,n in enumerate(nrange):\n",
    "    hs,Js,ps,sisjTrues,samples = generate_random_systems(n,10)\n",
    "\n",
    "    for i,(h,J,p,sisjTrue,sample) in enumerate(zip(hs,Js,ps,sisjTrues,samples)):\n",
    "        error[0][ncount,i],runtime[0][ncount,i] = runtime_exact(n,sisjTrue)\n",
    "        error[1][ncount,i],runtime[1][ncount,i] = runtime_mpf(n,sample)\n",
    "        error[2][ncount,i],runtime[2][ncount,i] = runtime_pseudo(n,sample)\n",
    "        error[3][ncount,i],runtime[3][ncount,i] = runtime_cluster(n,sample)\n",
    "        error[4][ncount,i],runtime[4][ncount,i] = runtime_mch(n,sisjTrue)\n",
    "        error[5][ncount,i],runtime[5][ncount,i] = runtime_mf(n,sample)\n",
    "\n",
    "    pickle.dump({'runtime':runtime,'error':error},open('temp.p','wb'),-1)"
   ]
  },
  {
   "cell_type": "code",
   "execution_count": 13,
   "metadata": {},
   "outputs": [
    {
     "name": "stdout",
     "output_type": "stream",
     "text": [
      "Thu Aug 31 13:11:31 EDT 2017\n",
      "\n"
     ]
    },
    {
     "data": {
      "text/plain": [
       "['runtime', 'error']"
      ]
     },
     "execution_count": 13,
     "metadata": {},
     "output_type": "execute_result"
    }
   ],
   "source": [
    "load_pickle('../temp.p',1)"
   ]
  },
  {
   "cell_type": "code",
   "execution_count": 9,
   "metadata": {},
   "outputs": [
    {
     "data": {
      "text/plain": [
       "['soln', 'estMultipliers']"
      ]
     },
     "execution_count": 9,
     "metadata": {},
     "output_type": "execute_result"
    }
   ],
   "source": [
    "load_pickle('../temp2.p')"
   ]
  },
  {
   "cell_type": "code",
   "execution_count": 7,
   "metadata": {
    "collapsed": true
   },
   "outputs": [],
   "source": [
    "nrange = range(6,16,2)"
   ]
  },
  {
   "cell_type": "code",
   "execution_count": 14,
   "metadata": {},
   "outputs": [
    {
     "data": {
      "image/png": "[encoded data removed]",
      "text/plain": [
       "<matplotlib.figure.Figure at 0x7fd3ff34ab50>"
      ]
     },
     "metadata": {},
     "output_type": "display_data"
    }
   ],
   "source": [
    "fig,ax = plt.subplots()\n",
    "markers = 'ox+^*>'\n",
    "cc = [c for c in colorcycle(len(nrange))]\n",
    "\n",
    "for m,run,err in zip(markers,runtime,error):\n",
    "    if m in 'x+':\n",
    "        lws = 4\n",
    "    else:\n",
    "        lws = None\n",
    "    ax.scatter(run.mean(1),err.mean(1),s=100,c=cc,marker=m,linewidths=lws)\n",
    "ax.set(xlabel='Runtime (s)',ylabel='Error',xscale='log',yscale='log',\n",
    "       ylim=[1e-2,10])\n",
    "ax.legend(('Exact','MPF','Pseudo','Cluster','MCH','RMF'),title='Method',fontsize='x-small',\n",
    "          bbox_to_anchor=[1.34,1])\n",
    "ax.grid()"
   ]
  },
  {
   "cell_type": "code",
   "execution_count": 87,
   "metadata": {
    "collapsed": true
   },
   "outputs": [],
   "source": [
    "fig.savefig('/Users/eddie/Downloads/runtime.pdf',bbox_inches='tight')"
   ]
  },
  {
   "cell_type": "code",
   "execution_count": 58,
   "metadata": {},
   "outputs": [
    {
     "data": {
      "text/plain": [
       "<matplotlib.legend.Legend at 0x7ff619073710>"
      ]
     },
     "execution_count": 58,
     "metadata": {},
     "output_type": "execute_result"
    },
    {
     "data": {
      "image/png": "[encoded data removed]",
      "text/plain": [
       "<matplotlib.figure.Figure at 0x7ff619073850>"
      ]
     },
     "metadata": {},
     "output_type": "display_data"
    }
   ],
   "source": [
    "fig,ax = plt.subplots()\n",
    "markers = 'ox+^*>'\n",
    "cc = [c for c in colorcycle(runtime.shape[1])]\n",
    "\n",
    "for m,rowr,rowe in zip(markers,runtime,error):\n",
    "    if m in 'x+':\n",
    "        lws = 4\n",
    "    else:\n",
    "        lws = None\n",
    "    ax.scatter(rowr,rowe,s=100,c=cc,marker=m,linewidths=lws)\n",
    "ax.set(xlabel='Runtime (s)',ylabel='Error',xscale='log',yscale='log',ylim=[1e-8,10])\n",
    "ax.legend(('Exact','MPF','Pseudo','Cluster','MCH','RMF'),title='Method',fontsize='x-small',\n",
    "          bbox_to_anchor=[1.34,1])"
   ]
  },
  {
   "cell_type": "code",
   "execution_count": null,
   "metadata": {
    "collapsed": true
   },
   "outputs": [],
   "source": []
  }
 ],
 "metadata": {
  "kernelspec": {
   "display_name": "Python 3",
   "language": "python",
   "name": "python3"
  },
  "language_info": {
   "codemirror_mode": {
    "name": "ipython",
    "version": 3
   },
   "file_extension": ".py",
   "mimetype": "text/x-python",
   "name": "python",
   "nbconvert_exporter": "python",
   "pygments_lexer": "ipython3",
   "version": "3.6.6"
  }
 },
 "nbformat": 4,
 "nbformat_minor": 1
}
