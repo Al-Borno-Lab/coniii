{
 "cells": [
  {
   "cell_type": "code",
   "execution_count": 12,
   "metadata": {
    "collapsed": false
   },
   "outputs": [
    {
     "name": "stdout",
     "output_type": "stream",
     "text": [
      "Populating the interactive namespace from numpy and matplotlib\n"
     ]
    },
    {
     "name": "stderr",
     "output_type": "stream",
     "text": [
      "/Users/eddie/anaconda/lib/python2.7/site-packages/IPython/core/magics/pylab.py:161: UserWarning: pylab import has clobbered these variables: ['entropy']\n",
      "`%matplotlib` prevents importing * from pylab and numpy\n",
      "  \"\\n`%matplotlib` prevents importing * from pylab and numpy\"\n"
     ]
    }
   ],
   "source": [
    "%pylab inline\n",
    "plt.rc('font',size=20)"
   ]
  },
  {
   "cell_type": "code",
   "execution_count": 2,
   "metadata": {
    "collapsed": false
   },
   "outputs": [],
   "source": [
    "from solvers import *\n",
    "from utils import *\n",
    "\n",
    "calc_e,_ = define_ising_mch_helpers()"
   ]
  },
  {
   "cell_type": "code",
   "execution_count": 3,
   "metadata": {
    "collapsed": true
   },
   "outputs": [],
   "source": [
    "# Generate example data set.\n",
    "n = 5\n",
    "allstates = bin_states(n,True)\n",
    "def calc_observables(J):\n",
    "    E = calc_e(allstates,J)\n",
    "    return pair_corr( allstates, exp(-E-logsumexp(E)),concat=True )\n",
    "\n",
    "p = random.rand(2**n)\n",
    "p /= p.sum()\n",
    "\n",
    "sisj = pair_corr(allstates,p,concat=True)"
   ]
  },
  {
   "cell_type": "code",
   "execution_count": 4,
   "metadata": {
    "collapsed": false
   },
   "outputs": [],
   "source": [
    "# Declare and call solver.\n",
    "solver = Exact(5,sisj,calc_e,calc_observables)\n",
    "soln = solver.solve()"
   ]
  },
  {
   "cell_type": "code",
   "execution_count": 7,
   "metadata": {
    "collapsed": false
   },
   "outputs": [
    {
     "data": {
      "text/plain": [
       "array([ 0.0858,  0.1614, -0.1789, -0.0282, -0.0092, -0.0172,  0.0041, -0.0438,  0.0397,  0.0841,  0.1676, -0.2246,  0.162 ,  0.0932,  0.076 ])"
      ]
     },
     "execution_count": 7,
     "metadata": {},
     "output_type": "execute_result"
    }
   ],
   "source": [
    "soln['x']"
   ]
  },
  {
   "cell_type": "code",
   "execution_count": 8,
   "metadata": {
    "collapsed": true
   },
   "outputs": [],
   "source": [
    "from tosolve11 import tosolve5"
   ]
  },
  {
   "cell_type": "code",
   "execution_count": 14,
   "metadata": {
    "collapsed": false
   },
   "outputs": [
    {
     "data": {
      "text/plain": [
       "[<matplotlib.text.Text at 0x7f1898281a10>,\n",
       " <matplotlib.text.Text at 0x7f1898268b90>]"
      ]
     },
     "execution_count": 14,
     "metadata": {},
     "output_type": "execute_result"
    },
    {
     "data": {
      "image/png": "[encoded data removed]",
      "text/plain": [
       "<matplotlib.figure.Figure at 0x7f189825ca10>"
      ]
     },
     "metadata": {},
     "output_type": "display_data"
    }
   ],
   "source": [
    "fig,ax = plt.subplots(figsize=(5.4,5))\n",
    "ax.plot(sisj,tosolve5.get_stats(soln['x']),'o')\n",
    "ax.plot([-1,1],[-1,1],'k-')\n",
    "ax.set(xlabel='True correlations',ylabel='Predicted correlations')"
   ]
  }
 ],
 "metadata": {
  "kernelspec": {
   "display_name": "Python 2",
   "language": "python",
   "name": "python2"
  }
 },
 "nbformat": 4,
 "nbformat_minor": 0
}
